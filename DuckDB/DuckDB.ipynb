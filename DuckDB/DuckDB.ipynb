{
 "cells": [
  {
   "cell_type": "code",
   "execution_count": 26,
   "metadata": {},
   "outputs": [],
   "source": [
    "#pip install duckdb pandas\n",
    "#pip install duckdb"
   ]
  },
  {
   "cell_type": "code",
   "execution_count": 57,
   "metadata": {},
   "outputs": [
    {
     "data": {
      "application/vnd.jupyter.widget-view+json": {
       "model_id": "1803246ba07a4ad991caf30721468931",
       "version_major": 2,
       "version_minor": 0
      },
      "text/plain": [
       "FloatProgress(value=0.0, layout=Layout(width='auto'), style=ProgressStyle(bar_color='black'))"
      ]
     },
     "metadata": {},
     "output_type": "display_data"
    }
   ],
   "source": [
    "import duckdb\n",
    "import pandas\n",
    "import pandas as pd\n",
    "\n",
    "# Create a Pandas dataframe\n",
    "\n",
    "###############################################################################################################\n",
    "# Specify the path to your Snappy-compressed Parquet file\n",
    "parquet_file_path = r'CD_UF=53'\n",
    "\n",
    "# Read Parquet file into a pandas DataFrame\n",
    "my_df = pd.read_parquet(parquet_file_path)\n",
    "# print(my_df)\n",
    "###############################################################################################################\n",
    "\n",
    "# create the table \"my_table\" from the DataFrame \"my_df\"\n",
    "# Note: duckdb.sql connects to the default in-memory database connection\n",
    "duckdb.sql(\"DROP TABLE IF EXISTS my_table\")\n",
    "\n",
    "\n",
    "# insert into the table \"my_table\" from the DataFrame \"my_df\"\n",
    "duckdb.sql(\"CREATE TABLE my_table AS SELECT * FROM my_df\")\n",
    "\n",
    "\n",
    "# insert into the table \"my_table\" from the DataFrame \"my_df\"\n",
    "## duckdb.sql(\"SELECT * FROM my_table\")\n",
    "\n",
    "\n",
    "# Two kind of ways, how to connect using duckdb\n",
    "\n",
    "###############################################################################################################\n",
    "# import duckdb\n",
    "\n",
    "# Connect to the database\n",
    "# con = duckdb.connect(database='your_database.db')\n",
    "\n",
    "# Execute the query\n",
    "# result = con.execute(\"SELECT COLUMN_NAME FROM INFORMATION_SCHEMA.COLUMNS WHERE TABLE_NAME = 'my_table'\")\n",
    "###############################################################################################################\n",
    "\n",
    "result = duckdb.sql(\"SELECT COLUMN_NAME FROM INFORMATION_SCHEMA.COLUMNS WHERE TABLE_NAME = 'my_table'\")\n",
    "\n",
    "rows = result.fetchall()\n",
    "\n",
    "# Extract column names from the result\n",
    "column_names = [row[0] for row in rows]\n",
    "\n",
    "# Print or use the column names as needed\n",
    "# print(column_names)\n"
   ]
  },
  {
   "cell_type": "code",
   "execution_count": 58,
   "metadata": {},
   "outputs": [],
   "source": [
    "#duckdb.sql(\"ALTER TABLE 'my_table' ADD COLUMN ANO VARCHAR(50) DEFAULT '2022'\")\n",
    "#duckdb.sql(\"SELECT * FROM my_table\")\n",
    "\n",
    "#duckdb.sql(\"ALTER TABLE my_table ADD COLUMN ANO VARCHAR(50) DEFAULT '2022'; SELECT * FROM my_table\")"
   ]
  },
  {
   "cell_type": "code",
   "execution_count": 59,
   "metadata": {},
   "outputs": [
    {
     "data": {
      "application/vnd.jupyter.widget-view+json": {
       "model_id": "68792f76e62d490ea2db1f60e0088f52",
       "version_major": 2,
       "version_minor": 0
      },
      "text/plain": [
       "FloatProgress(value=0.0, layout=Layout(width='auto'), style=ProgressStyle(bar_color='black'))"
      ]
     },
     "metadata": {},
     "output_type": "display_data"
    }
   ],
   "source": [
    "#duckdb.sql(\"ALTER TABLE 'my_table' ADD COLUMN ANO VARCHAR(50) DEFAULT '2022'\")\n",
    "#duckdb.sql(\"SELECT * FROM my_table\")\n",
    "\n",
    "#duckdb.sql(\"ALTER TABLE my_table ADD COLUMN ANO VARCHAR(50) DEFAULT '2022'; SELECT * FROM my_table\")\n",
    "\n",
    "duckdb.sql('''ALTER TABLE my_table ADD COLUMN ANO VARCHAR(50) DEFAULT '2022';\n",
    "           DROP TABLE IF EXISTS new_table ;\n",
    "           CREATE TABLE new_table AS SELECT * FROM my_table''')"
   ]
  },
  {
   "cell_type": "code",
   "execution_count": 60,
   "metadata": {},
   "outputs": [
    {
     "data": {
      "text/plain": [
       "┌──────────────┬──────────────────┬──────────────────────┬───┬─────────────────────┬──────────────────────┬─────────┐\n",
       "│ CD_MUNICIPIO │ CD_CNAE10_CLASSE │ FL_VINCULO_ATIVO_3…  │ … │   dh_insercao_trs   │  kv_process_control  │   ANO   │\n",
       "│   varchar    │     varchar      │        int32         │   │    timestamp_ns     │       varchar        │ varchar │\n",
       "├──────────────┼──────────────────┼──────────────────────┼───┼─────────────────────┼──────────────────────┼─────────┤\n",
       "│ 530010       │ 80322            │                    1 │ … │ 2024-06-24 10:00:46 │ {\"adf_factory_name…  │ 2022    │\n",
       "│ 530010       │ 85111            │                    1 │ … │ 2024-06-24 10:00:46 │ {\"adf_factory_name…  │ 2022    │\n",
       "│ 530010       │ 80152            │                    1 │ … │ 2024-06-24 10:00:46 │ {\"adf_factory_name…  │ 2022    │\n",
       "│ 530010       │ 85111            │                    1 │ … │ 2024-06-24 10:00:46 │ {\"adf_factory_name…  │ 2022    │\n",
       "│ 530010       │ 85111            │                    1 │ … │ 2024-06-24 10:00:46 │ {\"adf_factory_name…  │ 2022    │\n",
       "│ 530010       │ 85111            │                    1 │ … │ 2024-06-24 10:00:46 │ {\"adf_factory_name…  │ 2022    │\n",
       "│ 530010       │ 75116            │                    1 │ … │ 2024-06-24 10:00:46 │ {\"adf_factory_name…  │ 2022    │\n",
       "│ 530010       │ 74993            │                    1 │ … │ 2024-06-24 10:00:46 │ {\"adf_factory_name…  │ 2022    │\n",
       "│ 530010       │ 85111            │                    1 │ … │ 2024-06-24 10:00:46 │ {\"adf_factory_name…  │ 2022    │\n",
       "│ 530010       │ 85111            │                    1 │ … │ 2024-06-24 10:00:46 │ {\"adf_factory_name…  │ 2022    │\n",
       "│   ·          │   ·              │                    · │ · │          ·          │          ·           │  ·      │\n",
       "│   ·          │   ·              │                    · │ · │          ·          │          ·           │  ·      │\n",
       "│   ·          │   ·              │                    · │ · │          ·          │          ·           │  ·      │\n",
       "│ 530010       │ 45292            │                    1 │ … │ 2024-06-24 10:00:46 │ {\"adf_factory_name…  │ 2022    │\n",
       "│ 530010       │ 75116            │                    1 │ … │ 2024-06-24 10:00:46 │ {\"adf_factory_name…  │ 2022    │\n",
       "│ 530010       │ 60232            │                    1 │ … │ 2024-06-24 10:00:46 │ {\"adf_factory_name…  │ 2022    │\n",
       "│ 530010       │ 52310            │                    0 │ … │ 2024-06-24 10:00:46 │ {\"adf_factory_name…  │ 2022    │\n",
       "│ 530010       │ 74608            │                    1 │ … │ 2024-06-24 10:00:46 │ {\"adf_factory_name…  │ 2022    │\n",
       "│ 530010       │ 45411            │                    1 │ … │ 2024-06-24 10:00:46 │ {\"adf_factory_name…  │ 2022    │\n",
       "│ 530010       │ 52418            │                    0 │ … │ 2024-06-24 10:00:46 │ {\"adf_factory_name…  │ 2022    │\n",
       "│ 530010       │ 70106            │                    1 │ … │ 2024-06-24 10:00:46 │ {\"adf_factory_name…  │ 2022    │\n",
       "│ 530010       │ 26115            │                    1 │ … │ 2024-06-24 10:00:46 │ {\"adf_factory_name…  │ 2022    │\n",
       "│ 530010       │ 75116            │                    0 │ … │ 2024-06-24 10:00:46 │ {\"adf_factory_name…  │ 2022    │\n",
       "├──────────────┴──────────────────┴──────────────────────┴───┴─────────────────────┴──────────────────────┴─────────┤\n",
       "│ ? rows (>9999 rows, 20 shown)                                                                97 columns (6 shown) │\n",
       "└───────────────────────────────────────────────────────────────────────────────────────────────────────────────────┘"
      ]
     },
     "execution_count": 60,
     "metadata": {},
     "output_type": "execute_result"
    }
   ],
   "source": [
    "duckdb.sql(\"SELECT * FROM new_table\")"
   ]
  },
  {
   "cell_type": "code",
   "execution_count": null,
   "metadata": {},
   "outputs": [],
   "source": [
    "duckdb.sql('''SELECT DISTINCT column1, column2, FROM table_name;\n"
   ]
  },
  {
   "cell_type": "code",
   "execution_count": 63,
   "metadata": {},
   "outputs": [
    {
     "data": {
      "text/plain": [
       "┌────────┐\n",
       "│ ID_CPF │\n",
       "│ int32  │\n",
       "├────────┤\n",
       "│   NULL │\n",
       "└────────┘"
      ]
     },
     "execution_count": 63,
     "metadata": {},
     "output_type": "execute_result"
    }
   ],
   "source": [
    "duckdb.sql('''SELECT DISTINCT ID_CPF FROM new_table''')"
   ]
  },
  {
   "cell_type": "code",
   "execution_count": 55,
   "metadata": {},
   "outputs": [
    {
     "data": {
      "text/plain": [
       "┌────────────────────────┐\n",
       "│      CD_MUNICIPIO      │\n",
       "│        varchar         │\n",
       "├────────────────────────┤\n",
       "│ 00000530010            │\n",
       "│ 00000530010            │\n",
       "│ 00000530010            │\n",
       "│ 00000530010            │\n",
       "│ 00000530010            │\n",
       "│ 00000530010            │\n",
       "│ 00000530010            │\n",
       "│ 00000530010            │\n",
       "│ 00000530010            │\n",
       "│ 00000530010            │\n",
       "│      ·                 │\n",
       "│      ·                 │\n",
       "│      ·                 │\n",
       "│ 00000530010            │\n",
       "│ 00000530010            │\n",
       "│ 00000530010            │\n",
       "│ 00000530010            │\n",
       "│ 00000530010            │\n",
       "│ 00000530010            │\n",
       "│ 00000530010            │\n",
       "│ 00000530010            │\n",
       "│ 00000530010            │\n",
       "│ 00000530010            │\n",
       "├────────────────────────┤\n",
       "│         ? rows         │\n",
       "│ (>9999 rows, 20 shown) │\n",
       "└────────────────────────┘"
      ]
     },
     "execution_count": 55,
     "metadata": {},
     "output_type": "execute_result"
    }
   ],
   "source": [
    "#duckdb.sql('''SELECT LPAD(ID_CPF::text, 11, '0') AS ID_CPF FROM new_table''')\n",
    "\n",
    "duckdb.sql('''SELECT LPAD(CD_MUNICIPIO::text, 11, '0') AS CD_MUNICIPIO FROM new_table''')"
   ]
  },
  {
   "cell_type": "code",
   "execution_count": 52,
   "metadata": {},
   "outputs": [
    {
     "data": {
      "text/plain": [
       "┌──────────────┬──────────────────┬──────────────────────┬───┬─────────────────────┬──────────────────────┬─────────┐\n",
       "│ CD_MUNICIPIO │ CD_CNAE10_CLASSE │ FL_VINCULO_ATIVO_3…  │ … │   dh_insercao_trs   │  kv_process_control  │   ANO   │\n",
       "│   varchar    │     varchar      │        int32         │   │    timestamp_ns     │       varchar        │ varchar │\n",
       "├──────────────┼──────────────────┼──────────────────────┼───┼─────────────────────┼──────────────────────┼─────────┤\n",
       "│ 530010       │ 80322            │                    1 │ … │ 2024-06-24 10:00:46 │ {\"adf_factory_name…  │ 2022    │\n",
       "│ 530010       │ 85111            │                    1 │ … │ 2024-06-24 10:00:46 │ {\"adf_factory_name…  │ 2022    │\n",
       "│ 530010       │ 80152            │                    1 │ … │ 2024-06-24 10:00:46 │ {\"adf_factory_name…  │ 2022    │\n",
       "│ 530010       │ 85111            │                    1 │ … │ 2024-06-24 10:00:46 │ {\"adf_factory_name…  │ 2022    │\n",
       "│ 530010       │ 85111            │                    1 │ … │ 2024-06-24 10:00:46 │ {\"adf_factory_name…  │ 2022    │\n",
       "│ 530010       │ 85111            │                    1 │ … │ 2024-06-24 10:00:46 │ {\"adf_factory_name…  │ 2022    │\n",
       "│ 530010       │ 75116            │                    1 │ … │ 2024-06-24 10:00:46 │ {\"adf_factory_name…  │ 2022    │\n",
       "│ 530010       │ 74993            │                    1 │ … │ 2024-06-24 10:00:46 │ {\"adf_factory_name…  │ 2022    │\n",
       "│ 530010       │ 85111            │                    1 │ … │ 2024-06-24 10:00:46 │ {\"adf_factory_name…  │ 2022    │\n",
       "│ 530010       │ 85111            │                    1 │ … │ 2024-06-24 10:00:46 │ {\"adf_factory_name…  │ 2022    │\n",
       "│   ·          │   ·              │                    · │ · │          ·          │          ·           │  ·      │\n",
       "│   ·          │   ·              │                    · │ · │          ·          │          ·           │  ·      │\n",
       "│   ·          │   ·              │                    · │ · │          ·          │          ·           │  ·      │\n",
       "│ 530010       │ 74110            │                    1 │ … │ 2024-06-24 10:00:46 │ {\"adf_factory_name…  │ 2022    │\n",
       "│ 530010       │ 51918            │                    1 │ … │ 2024-06-24 10:00:46 │ {\"adf_factory_name…  │ 2022    │\n",
       "│ 530010       │ 85111            │                    1 │ … │ 2024-06-24 10:00:46 │ {\"adf_factory_name…  │ 2022    │\n",
       "│ 530010       │ 75221            │                    1 │ … │ 2024-06-24 10:00:46 │ {\"adf_factory_name…  │ 2022    │\n",
       "│ 530010       │ 45217            │                    1 │ … │ 2024-06-24 10:00:46 │ {\"adf_factory_name…  │ 2022    │\n",
       "│ 530010       │ 75116            │                    1 │ … │ 2024-06-24 10:00:46 │ {\"adf_factory_name…  │ 2022    │\n",
       "│ 530010       │ 75248            │                    1 │ … │ 2024-06-24 10:00:46 │ {\"adf_factory_name…  │ 2022    │\n",
       "│ 530010       │ 75116            │                    1 │ … │ 2024-06-24 10:00:46 │ {\"adf_factory_name…  │ 2022    │\n",
       "│ 530010       │ 74110            │                    1 │ … │ 2024-06-24 10:00:46 │ {\"adf_factory_name…  │ 2022    │\n",
       "│ 530010       │ 75221            │                    1 │ … │ 2024-06-24 10:00:46 │ {\"adf_factory_name…  │ 2022    │\n",
       "├──────────────┴──────────────────┴──────────────────────┴───┴─────────────────────┴──────────────────────┴─────────┤\n",
       "│ ? rows (>9999 rows, 20 shown)                                                                97 columns (6 shown) │\n",
       "└───────────────────────────────────────────────────────────────────────────────────────────────────────────────────┘"
      ]
     },
     "execution_count": 52,
     "metadata": {},
     "output_type": "execute_result"
    }
   ],
   "source": [
    "duckdb.sql(\"SELECT * FROM new_table WHERE FL_VINCULO_ATIVO_3112 == '1'\")\n",
    "\n",
    "SELECT LPAD(ID_CPF::text, 11, '0') AS ID_CPF\n",
    "FROM your_table;\n"
   ]
  },
  {
   "cell_type": "code",
   "execution_count": null,
   "metadata": {},
   "outputs": [],
   "source": [
    "SELECT column1, column2, ...\n",
    "FROM table_name\n",
    "WHERE condition;\n"
   ]
  },
  {
   "cell_type": "code",
   "execution_count": null,
   "metadata": {},
   "outputs": [],
   "source": []
  },
  {
   "cell_type": "code",
   "execution_count": null,
   "metadata": {},
   "outputs": [],
   "source": [
    "df_2008_2018 = (\n",
    "  df_2008_2018\\\n",
    "  .filter(col('FL_VINCULO_ATIVO_3112') == '1')\\\n",
    "  .withColumn('ID_CPF', lpad(col('ID_CPF'),11,'0'))\\\n",
    "  .withColumn('ID_CNPJ_CEI',f.lpad(f.col('ID_CNPJ_CEI'),14,'0'))\\\n",
    "  .withColumn('CD_CNAE20_DIVISAO', f.substring(f.col('CD_CNAE20_SUBCLASSE'),1,2))\\\n",
    ")"
   ]
  },
  {
   "cell_type": "code",
   "execution_count": null,
   "metadata": {},
   "outputs": [],
   "source": []
  },
  {
   "cell_type": "code",
   "execution_count": null,
   "metadata": {},
   "outputs": [],
   "source": []
  },
  {
   "cell_type": "code",
   "execution_count": 9,
   "metadata": {},
   "outputs": [
    {
     "name": "stdout",
     "output_type": "stream",
     "text": [
      "[]\n"
     ]
    }
   ],
   "source": [
    "import duckdb\n",
    "\n",
    "# Connect to the database\n",
    "con = duckdb.connect(database='your_database.db')\n",
    "\n",
    "# Execute the query\n",
    "result = con.execute(\"SELECT COLUMN_NAME FROM INFORMATION_SCHEMA.COLUMNS WHERE TABLE_NAME = 'my_table'\")\n",
    "\n",
    "# Fetch all rows (results)\n",
    "column_names = result.fetchall()\n",
    "\n",
    "# Extract column names from the result\n",
    "column_names = [row[0] for row in column_names]\n",
    "\n",
    "# Print or use the column names as needed\n",
    "print(column_names)\n"
   ]
  },
  {
   "cell_type": "code",
   "execution_count": null,
   "metadata": {},
   "outputs": [],
   "source": [
    "df_2008_2018 = df_rais_vinculo2008a2018\n",
    "df_2008_2018 = df_2008_2018.where(col('ANO').isin(ANOS))"
   ]
  },
  {
   "cell_type": "code",
   "execution_count": 4,
   "metadata": {},
   "outputs": [
    {
     "data": {
      "text/plain": [
       "┌────────────────────────┐\n",
       "│     'CD_MUNICIPIO'     │\n",
       "│        varchar         │\n",
       "├────────────────────────┤\n",
       "│ CD_MUNICIPIO           │\n",
       "│ CD_MUNICIPIO           │\n",
       "│ CD_MUNICIPIO           │\n",
       "│ CD_MUNICIPIO           │\n",
       "│ CD_MUNICIPIO           │\n",
       "│ CD_MUNICIPIO           │\n",
       "│ CD_MUNICIPIO           │\n",
       "│ CD_MUNICIPIO           │\n",
       "│ CD_MUNICIPIO           │\n",
       "│ CD_MUNICIPIO           │\n",
       "│      ·                 │\n",
       "│      ·                 │\n",
       "│      ·                 │\n",
       "│ CD_MUNICIPIO           │\n",
       "│ CD_MUNICIPIO           │\n",
       "│ CD_MUNICIPIO           │\n",
       "│ CD_MUNICIPIO           │\n",
       "│ CD_MUNICIPIO           │\n",
       "│ CD_MUNICIPIO           │\n",
       "│ CD_MUNICIPIO           │\n",
       "│ CD_MUNICIPIO           │\n",
       "│ CD_MUNICIPIO           │\n",
       "│ CD_MUNICIPIO           │\n",
       "├────────────────────────┤\n",
       "│         ? rows         │\n",
       "│ (>9999 rows, 20 shown) │\n",
       "└────────────────────────┘"
      ]
     },
     "execution_count": 4,
     "metadata": {},
     "output_type": "execute_result"
    }
   ],
   "source": [
    "duckdb.sql(\"SELECT 'CD_MUNICIPIO' FROM my_table\")"
   ]
  },
  {
   "cell_type": "code",
   "execution_count": null,
   "metadata": {},
   "outputs": [],
   "source": []
  }
 ],
 "metadata": {
  "kernelspec": {
   "display_name": "great_expectations",
   "language": "python",
   "name": "python3"
  },
  "language_info": {
   "codemirror_mode": {
    "name": "ipython",
    "version": 3
   },
   "file_extension": ".py",
   "mimetype": "text/x-python",
   "name": "python",
   "nbconvert_exporter": "python",
   "pygments_lexer": "ipython3",
   "version": "3.8.19"
  }
 },
 "nbformat": 4,
 "nbformat_minor": 2
}
